{
 "cells": [
  {
   "cell_type": "code",
   "execution_count": 3,
   "id": "54518778-9b64-411f-96ab-44455d489f2a",
   "metadata": {
    "tags": []
   },
   "outputs": [],
   "source": [
    "import json\n",
    "import os\n",
    "\n",
    "def save_json_lines_as_txt(json_file, txt_file_path):\n",
    "    with open(json_file, 'r', encoding='utf-8') as f:\n",
    "        data = json.load(f)\n",
    "    if not os.path.exists(txt_file_path):\n",
    "        os.makedirs(txt_file_path)\n",
    "        for articles in data:\n",
    "            for article in articles['articles']:\n",
    "                law_id = str(articles.get(\"law_id\"))\n",
    "                if \"2020\" in law_id:\n",
    "                    law_id_name = law_id.replace('/', '_')\n",
    "                    article_id = str(article.get(\"article_id\"))\n",
    "                    #print_out = f\"{law_id}_{article_id}\"\n",
    "                    #print(print_out)\n",
    "                    text = \"Luật \"+ law_id + '\\n' + str(article.get('title')) + '\\n' + str(article.get(\"text\"))               \n",
    "                    file_name = f\"{txt_file_path}/{law_id_name}_{article_id}.txt\"\n",
    "                    with open(file_name, 'w', encoding='utf-8') as txt_file:\n",
    "                        txt_file.write(text)\n",
    "\n",
    "# Replace 'your_json_file.json' with the path to your JSON file\n",
    "json_file_path = '../Raw_data/zalo_2021/legal_corpus.json'\n",
    "txt_file_path = \"../Raw_data/zalo_2021/zalo_txtfile_data\"\n",
    "save_json_lines_as_txt(json_file_path, txt_file_path)"
   ]
  },
  {
   "cell_type": "code",
   "execution_count": 4,
   "id": "6043686e-fcb4-4b33-a5f1-5c2af44fc2e7",
   "metadata": {
    "tags": []
   },
   "outputs": [
    {
     "name": "stdout",
     "output_type": "stream",
     "text": [
      "Số lượng file .txt trong thư mục: 6517\n"
     ]
    }
   ],
   "source": [
    "import os\n",
    "\n",
    "def count_txt_files(folder_path):\n",
    "    # Khởi tạo biến đếm\n",
    "    count = 0\n",
    "    # Duyệt qua tất cả các file trong thư mục\n",
    "    for file in os.listdir(folder_path):\n",
    "        # Kiểm tra xem file có phải là file .txt không\n",
    "        if file.endswith(\".txt\"):\n",
    "            count += 1\n",
    "    return count\n",
    "\n",
    "# Đường dẫn tới thư mục chứa các file .txt\n",
    "folder_path = '../Raw_data/zalo_2021/zalo_txtfile_data'\n",
    "# Thực hiện đếm số lượng file .txt trong thư mục\n",
    "txt_file_count = count_txt_files(folder_path)\n",
    "print(\"Số lượng file .txt trong thư mục:\", txt_file_count)"
   ]
  },
  {
   "cell_type": "code",
   "execution_count": 1,
   "id": "ec4c82dd-d7ef-4c7a-a2da-9be57e6e856f",
   "metadata": {
    "tags": []
   },
   "outputs": [
    {
     "data": {
      "text/html": [
       "<div>\n",
       "<style scoped>\n",
       "    .dataframe tbody tr th:only-of-type {\n",
       "        vertical-align: middle;\n",
       "    }\n",
       "\n",
       "    .dataframe tbody tr th {\n",
       "        vertical-align: top;\n",
       "    }\n",
       "\n",
       "    .dataframe thead th {\n",
       "        text-align: right;\n",
       "    }\n",
       "</style>\n",
       "<table border=\"1\" class=\"dataframe\">\n",
       "  <thead>\n",
       "    <tr style=\"text-align: right;\">\n",
       "      <th></th>\n",
       "      <th>question_id</th>\n",
       "      <th>question</th>\n",
       "      <th>relevant_articles</th>\n",
       "      <th>question_length</th>\n",
       "      <th>num_articles</th>\n",
       "      <th>relevant_titles</th>\n",
       "    </tr>\n",
       "  </thead>\n",
       "  <tbody>\n",
       "    <tr>\n",
       "      <th>0</th>\n",
       "      <td>0637bf82c8b290c7875c5bfddbf91df5</td>\n",
       "      <td>Công an xã xử phạt lỗi không mang bằng lái xe ...</td>\n",
       "      <td>[{'law_id': '47/2011/tt-bca', 'article_id': '7'}]</td>\n",
       "      <td>14</td>\n",
       "      <td>1</td>\n",
       "      <td>['47/2011/tt-bca']</td>\n",
       "    </tr>\n",
       "    <tr>\n",
       "      <th>1</th>\n",
       "      <td>ade2b2ee4f5b869f75f0d183902382af</td>\n",
       "      <td>Phải thực hiện thao tác nạp mẫu vào bình chứa ...</td>\n",
       "      <td>[{'law_id': '41/2020/tt-bca', 'article_id': '1...</td>\n",
       "      <td>22</td>\n",
       "      <td>1</td>\n",
       "      <td>['41/2020/tt-bca']</td>\n",
       "    </tr>\n",
       "    <tr>\n",
       "      <th>2</th>\n",
       "      <td>8fa164edc7a8419cd7dc9ce66d8e695a</td>\n",
       "      <td>Trình tự đánh giá chất lượng hàng năm đối với ...</td>\n",
       "      <td>[{'law_id': '159/2020/nđ-cp', 'article_id': '1...</td>\n",
       "      <td>19</td>\n",
       "      <td>1</td>\n",
       "      <td>['159/2020/nđ-cp']</td>\n",
       "    </tr>\n",
       "    <tr>\n",
       "      <th>3</th>\n",
       "      <td>3aed91309b72097b34427dd28bebd98a</td>\n",
       "      <td>Tử tù chết sau khi tiêm thuốc độc mà không có ...</td>\n",
       "      <td>[{'law_id': '53/2010/qh12', 'article_id': '60'...</td>\n",
       "      <td>24</td>\n",
       "      <td>2</td>\n",
       "      <td>['53/2010/qh12', '82/2011/nđ-cp']</td>\n",
       "    </tr>\n",
       "    <tr>\n",
       "      <th>4</th>\n",
       "      <td>fe9131a8862ce1bfa7de7e2b30eeb39e</td>\n",
       "      <td>Trách nhiệm của Bộ Khoa học và Công nghệ về qu...</td>\n",
       "      <td>[{'law_id': '63/2020/nđ-cp', 'article_id': '20'}]</td>\n",
       "      <td>25</td>\n",
       "      <td>1</td>\n",
       "      <td>['63/2020/nđ-cp']</td>\n",
       "    </tr>\n",
       "  </tbody>\n",
       "</table>\n",
       "</div>"
      ],
      "text/plain": [
       "                        question_id  \\\n",
       "0  0637bf82c8b290c7875c5bfddbf91df5   \n",
       "1  ade2b2ee4f5b869f75f0d183902382af   \n",
       "2  8fa164edc7a8419cd7dc9ce66d8e695a   \n",
       "3  3aed91309b72097b34427dd28bebd98a   \n",
       "4  fe9131a8862ce1bfa7de7e2b30eeb39e   \n",
       "\n",
       "                                            question  \\\n",
       "0  Công an xã xử phạt lỗi không mang bằng lái xe ...   \n",
       "1  Phải thực hiện thao tác nạp mẫu vào bình chứa ...   \n",
       "2  Trình tự đánh giá chất lượng hàng năm đối với ...   \n",
       "3  Tử tù chết sau khi tiêm thuốc độc mà không có ...   \n",
       "4  Trách nhiệm của Bộ Khoa học và Công nghệ về qu...   \n",
       "\n",
       "                                   relevant_articles  question_length  \\\n",
       "0  [{'law_id': '47/2011/tt-bca', 'article_id': '7'}]               14   \n",
       "1  [{'law_id': '41/2020/tt-bca', 'article_id': '1...               22   \n",
       "2  [{'law_id': '159/2020/nđ-cp', 'article_id': '1...               19   \n",
       "3  [{'law_id': '53/2010/qh12', 'article_id': '60'...               24   \n",
       "4  [{'law_id': '63/2020/nđ-cp', 'article_id': '20'}]               25   \n",
       "\n",
       "   num_articles                    relevant_titles  \n",
       "0             1                 ['47/2011/tt-bca']  \n",
       "1             1                 ['41/2020/tt-bca']  \n",
       "2             1                 ['159/2020/nđ-cp']  \n",
       "3             2  ['53/2010/qh12', '82/2011/nđ-cp']  \n",
       "4             1                  ['63/2020/nđ-cp']  "
      ]
     },
     "execution_count": 1,
     "metadata": {},
     "output_type": "execute_result"
    }
   ],
   "source": [
    "import pandas as pd\n",
    "\n",
    "data = pd.read_csv(\"../Raw_data/zalo_2021/train_qna.csv\")\n",
    "data.head()"
   ]
  },
  {
   "cell_type": "code",
   "execution_count": 2,
   "id": "ba439d0d-7945-4afa-bdb2-77b6f539d7e9",
   "metadata": {
    "tags": []
   },
   "outputs": [
    {
     "data": {
      "text/plain": [
       "(3196, 6)"
      ]
     },
     "execution_count": 2,
     "metadata": {},
     "output_type": "execute_result"
    }
   ],
   "source": [
    "data.shape"
   ]
  },
  {
   "cell_type": "code",
   "execution_count": 3,
   "id": "13d84fdc-280f-4db3-a021-e6939d5d1111",
   "metadata": {
    "tags": []
   },
   "outputs": [
    {
     "data": {
      "text/plain": [
       "(742, 6)"
      ]
     },
     "execution_count": 3,
     "metadata": {},
     "output_type": "execute_result"
    }
   ],
   "source": [
    "filtered_df = data[data['relevant_titles'].str.contains('2020')]\n",
    "filtered_df.shape"
   ]
  },
  {
   "cell_type": "code",
   "execution_count": 4,
   "id": "20a13771-a3d9-4774-b934-aea55d35482e",
   "metadata": {
    "tags": []
   },
   "outputs": [
    {
     "data": {
      "text/html": [
       "<div>\n",
       "<style scoped>\n",
       "    .dataframe tbody tr th:only-of-type {\n",
       "        vertical-align: middle;\n",
       "    }\n",
       "\n",
       "    .dataframe tbody tr th {\n",
       "        vertical-align: top;\n",
       "    }\n",
       "\n",
       "    .dataframe thead th {\n",
       "        text-align: right;\n",
       "    }\n",
       "</style>\n",
       "<table border=\"1\" class=\"dataframe\">\n",
       "  <thead>\n",
       "    <tr style=\"text-align: right;\">\n",
       "      <th></th>\n",
       "      <th>question_id</th>\n",
       "      <th>question</th>\n",
       "      <th>relevant_articles</th>\n",
       "      <th>question_length</th>\n",
       "      <th>num_articles</th>\n",
       "      <th>relevant_titles</th>\n",
       "    </tr>\n",
       "  </thead>\n",
       "  <tbody>\n",
       "    <tr>\n",
       "      <th>1</th>\n",
       "      <td>ade2b2ee4f5b869f75f0d183902382af</td>\n",
       "      <td>Phải thực hiện thao tác nạp mẫu vào bình chứa ...</td>\n",
       "      <td>[{'law_id': '41/2020/tt-bca', 'article_id': '1...</td>\n",
       "      <td>22</td>\n",
       "      <td>1</td>\n",
       "      <td>['41/2020/tt-bca']</td>\n",
       "    </tr>\n",
       "    <tr>\n",
       "      <th>2</th>\n",
       "      <td>8fa164edc7a8419cd7dc9ce66d8e695a</td>\n",
       "      <td>Trình tự đánh giá chất lượng hàng năm đối với ...</td>\n",
       "      <td>[{'law_id': '159/2020/nđ-cp', 'article_id': '1...</td>\n",
       "      <td>19</td>\n",
       "      <td>1</td>\n",
       "      <td>['159/2020/nđ-cp']</td>\n",
       "    </tr>\n",
       "    <tr>\n",
       "      <th>4</th>\n",
       "      <td>fe9131a8862ce1bfa7de7e2b30eeb39e</td>\n",
       "      <td>Trách nhiệm của Bộ Khoa học và Công nghệ về qu...</td>\n",
       "      <td>[{'law_id': '63/2020/nđ-cp', 'article_id': '20'}]</td>\n",
       "      <td>25</td>\n",
       "      <td>1</td>\n",
       "      <td>['63/2020/nđ-cp']</td>\n",
       "    </tr>\n",
       "    <tr>\n",
       "      <th>5</th>\n",
       "      <td>fe7d15e338c05614d38d9556be8ce471</td>\n",
       "      <td>Đập phá biển báo “khu vực biên giới” bị phạt t...</td>\n",
       "      <td>[{'law_id': '96/2020/nđ-cp', 'article_id': '10'}]</td>\n",
       "      <td>12</td>\n",
       "      <td>1</td>\n",
       "      <td>['96/2020/nđ-cp']</td>\n",
       "    </tr>\n",
       "    <tr>\n",
       "      <th>7</th>\n",
       "      <td>240939c7783a252ad86868d87bc8df66</td>\n",
       "      <td>Thừa phát lại được tống đạt những giấy tờ, hồ ...</td>\n",
       "      <td>[{'law_id': '08/2020/nđ-cp', 'article_id': '32'}]</td>\n",
       "      <td>14</td>\n",
       "      <td>1</td>\n",
       "      <td>['08/2020/nđ-cp']</td>\n",
       "    </tr>\n",
       "  </tbody>\n",
       "</table>\n",
       "</div>"
      ],
      "text/plain": [
       "                        question_id  \\\n",
       "1  ade2b2ee4f5b869f75f0d183902382af   \n",
       "2  8fa164edc7a8419cd7dc9ce66d8e695a   \n",
       "4  fe9131a8862ce1bfa7de7e2b30eeb39e   \n",
       "5  fe7d15e338c05614d38d9556be8ce471   \n",
       "7  240939c7783a252ad86868d87bc8df66   \n",
       "\n",
       "                                            question  \\\n",
       "1  Phải thực hiện thao tác nạp mẫu vào bình chứa ...   \n",
       "2  Trình tự đánh giá chất lượng hàng năm đối với ...   \n",
       "4  Trách nhiệm của Bộ Khoa học và Công nghệ về qu...   \n",
       "5  Đập phá biển báo “khu vực biên giới” bị phạt t...   \n",
       "7  Thừa phát lại được tống đạt những giấy tờ, hồ ...   \n",
       "\n",
       "                                   relevant_articles  question_length  \\\n",
       "1  [{'law_id': '41/2020/tt-bca', 'article_id': '1...               22   \n",
       "2  [{'law_id': '159/2020/nđ-cp', 'article_id': '1...               19   \n",
       "4  [{'law_id': '63/2020/nđ-cp', 'article_id': '20'}]               25   \n",
       "5  [{'law_id': '96/2020/nđ-cp', 'article_id': '10'}]               12   \n",
       "7  [{'law_id': '08/2020/nđ-cp', 'article_id': '32'}]               14   \n",
       "\n",
       "   num_articles     relevant_titles  \n",
       "1             1  ['41/2020/tt-bca']  \n",
       "2             1  ['159/2020/nđ-cp']  \n",
       "4             1   ['63/2020/nđ-cp']  \n",
       "5             1   ['96/2020/nđ-cp']  \n",
       "7             1   ['08/2020/nđ-cp']  "
      ]
     },
     "execution_count": 4,
     "metadata": {},
     "output_type": "execute_result"
    }
   ],
   "source": [
    "filtered_df.head()"
   ]
  },
  {
   "cell_type": "code",
   "execution_count": 5,
   "id": "f682c965-f153-4e64-8fd4-b51111495ad9",
   "metadata": {
    "tags": []
   },
   "outputs": [
    {
     "name": "stderr",
     "output_type": "stream",
     "text": [
      "/tmp/ipykernel_35675/339650231.py:12: SettingWithCopyWarning: \n",
      "A value is trying to be set on a copy of a slice from a DataFrame.\n",
      "Try using .loc[row_indexer,col_indexer] = value instead\n",
      "\n",
      "See the caveats in the documentation: https://pandas.pydata.org/pandas-docs/stable/user_guide/indexing.html#returning-a-view-versus-a-copy\n",
      "  filtered_df.loc[:, 'article_id'] = filtered_df['relevant_articles'].apply(extract_article_id)\n",
      "/tmp/ipykernel_35675/339650231.py:13: SettingWithCopyWarning: \n",
      "A value is trying to be set on a copy of a slice from a DataFrame.\n",
      "Try using .loc[row_indexer,col_indexer] = value instead\n",
      "\n",
      "See the caveats in the documentation: https://pandas.pydata.org/pandas-docs/stable/user_guide/indexing.html#returning-a-view-versus-a-copy\n",
      "  filtered_df.loc[:, 'law_id'] = filtered_df['relevant_articles'].apply(extract_law_id)\n"
     ]
    },
    {
     "data": {
      "text/html": [
       "<div>\n",
       "<style scoped>\n",
       "    .dataframe tbody tr th:only-of-type {\n",
       "        vertical-align: middle;\n",
       "    }\n",
       "\n",
       "    .dataframe tbody tr th {\n",
       "        vertical-align: top;\n",
       "    }\n",
       "\n",
       "    .dataframe thead th {\n",
       "        text-align: right;\n",
       "    }\n",
       "</style>\n",
       "<table border=\"1\" class=\"dataframe\">\n",
       "  <thead>\n",
       "    <tr style=\"text-align: right;\">\n",
       "      <th></th>\n",
       "      <th>question_id</th>\n",
       "      <th>question</th>\n",
       "      <th>relevant_articles</th>\n",
       "      <th>question_length</th>\n",
       "      <th>num_articles</th>\n",
       "      <th>relevant_titles</th>\n",
       "      <th>article_id</th>\n",
       "      <th>law_id</th>\n",
       "    </tr>\n",
       "  </thead>\n",
       "  <tbody>\n",
       "    <tr>\n",
       "      <th>1</th>\n",
       "      <td>ade2b2ee4f5b869f75f0d183902382af</td>\n",
       "      <td>Phải thực hiện thao tác nạp mẫu vào bình chứa ...</td>\n",
       "      <td>[{'law_id': '41/2020/tt-bca', 'article_id': '1...</td>\n",
       "      <td>22</td>\n",
       "      <td>1</td>\n",
       "      <td>['41/2020/tt-bca']</td>\n",
       "      <td>11</td>\n",
       "      <td>41/2020/tt-bca</td>\n",
       "    </tr>\n",
       "    <tr>\n",
       "      <th>2</th>\n",
       "      <td>8fa164edc7a8419cd7dc9ce66d8e695a</td>\n",
       "      <td>Trình tự đánh giá chất lượng hàng năm đối với ...</td>\n",
       "      <td>[{'law_id': '159/2020/nđ-cp', 'article_id': '1...</td>\n",
       "      <td>19</td>\n",
       "      <td>1</td>\n",
       "      <td>['159/2020/nđ-cp']</td>\n",
       "      <td>13</td>\n",
       "      <td>159/2020/nđ-cp</td>\n",
       "    </tr>\n",
       "    <tr>\n",
       "      <th>4</th>\n",
       "      <td>fe9131a8862ce1bfa7de7e2b30eeb39e</td>\n",
       "      <td>Trách nhiệm của Bộ Khoa học và Công nghệ về qu...</td>\n",
       "      <td>[{'law_id': '63/2020/nđ-cp', 'article_id': '20'}]</td>\n",
       "      <td>25</td>\n",
       "      <td>1</td>\n",
       "      <td>['63/2020/nđ-cp']</td>\n",
       "      <td>20</td>\n",
       "      <td>63/2020/nđ-cp</td>\n",
       "    </tr>\n",
       "    <tr>\n",
       "      <th>5</th>\n",
       "      <td>fe7d15e338c05614d38d9556be8ce471</td>\n",
       "      <td>Đập phá biển báo “khu vực biên giới” bị phạt t...</td>\n",
       "      <td>[{'law_id': '96/2020/nđ-cp', 'article_id': '10'}]</td>\n",
       "      <td>12</td>\n",
       "      <td>1</td>\n",
       "      <td>['96/2020/nđ-cp']</td>\n",
       "      <td>10</td>\n",
       "      <td>96/2020/nđ-cp</td>\n",
       "    </tr>\n",
       "    <tr>\n",
       "      <th>7</th>\n",
       "      <td>240939c7783a252ad86868d87bc8df66</td>\n",
       "      <td>Thừa phát lại được tống đạt những giấy tờ, hồ ...</td>\n",
       "      <td>[{'law_id': '08/2020/nđ-cp', 'article_id': '32'}]</td>\n",
       "      <td>14</td>\n",
       "      <td>1</td>\n",
       "      <td>['08/2020/nđ-cp']</td>\n",
       "      <td>32</td>\n",
       "      <td>08/2020/nđ-cp</td>\n",
       "    </tr>\n",
       "  </tbody>\n",
       "</table>\n",
       "</div>"
      ],
      "text/plain": [
       "                        question_id  \\\n",
       "1  ade2b2ee4f5b869f75f0d183902382af   \n",
       "2  8fa164edc7a8419cd7dc9ce66d8e695a   \n",
       "4  fe9131a8862ce1bfa7de7e2b30eeb39e   \n",
       "5  fe7d15e338c05614d38d9556be8ce471   \n",
       "7  240939c7783a252ad86868d87bc8df66   \n",
       "\n",
       "                                            question  \\\n",
       "1  Phải thực hiện thao tác nạp mẫu vào bình chứa ...   \n",
       "2  Trình tự đánh giá chất lượng hàng năm đối với ...   \n",
       "4  Trách nhiệm của Bộ Khoa học và Công nghệ về qu...   \n",
       "5  Đập phá biển báo “khu vực biên giới” bị phạt t...   \n",
       "7  Thừa phát lại được tống đạt những giấy tờ, hồ ...   \n",
       "\n",
       "                                   relevant_articles  question_length  \\\n",
       "1  [{'law_id': '41/2020/tt-bca', 'article_id': '1...               22   \n",
       "2  [{'law_id': '159/2020/nđ-cp', 'article_id': '1...               19   \n",
       "4  [{'law_id': '63/2020/nđ-cp', 'article_id': '20'}]               25   \n",
       "5  [{'law_id': '96/2020/nđ-cp', 'article_id': '10'}]               12   \n",
       "7  [{'law_id': '08/2020/nđ-cp', 'article_id': '32'}]               14   \n",
       "\n",
       "   num_articles     relevant_titles article_id          law_id  \n",
       "1             1  ['41/2020/tt-bca']         11  41/2020/tt-bca  \n",
       "2             1  ['159/2020/nđ-cp']         13  159/2020/nđ-cp  \n",
       "4             1   ['63/2020/nđ-cp']         20   63/2020/nđ-cp  \n",
       "5             1   ['96/2020/nđ-cp']         10   96/2020/nđ-cp  \n",
       "7             1   ['08/2020/nđ-cp']         32   08/2020/nđ-cp  "
      ]
     },
     "execution_count": 5,
     "metadata": {},
     "output_type": "execute_result"
    }
   ],
   "source": [
    "def extract_article_id(row):\n",
    "    articles_list = eval(row)  # Chuyển đổi từ chuỗi sang list\n",
    "    article = articles_list[0]  # Giả sử chỉ có một phần tử trong list\n",
    "    return article.get('article_id', '')\n",
    "\n",
    "# Hàm để trích xuất 'law_id' từ một list trong cột 'relevant_articles'\n",
    "def extract_law_id(row):\n",
    "    articles_list = eval(row)  # Chuyển đổi từ chuỗi sang list\n",
    "    article = articles_list[0]  # Giả sử chỉ có một phần tử trong list\n",
    "    return article.get('law_id', '')\n",
    "\n",
    "filtered_df.loc[:, 'article_id'] = filtered_df['relevant_articles'].apply(extract_article_id)\n",
    "filtered_df.loc[:, 'law_id'] = filtered_df['relevant_articles'].apply(extract_law_id)\n",
    "filtered_df.head()"
   ]
  },
  {
   "cell_type": "code",
   "execution_count": 23,
   "id": "35986fb9-109f-433f-9f85-94b02e7bb147",
   "metadata": {
    "tags": []
   },
   "outputs": [],
   "source": [
    "import json\n",
    "import re\n",
    "\n",
    "json_file = '../Raw_data/zalo_2021/legal_corpus.json'\n",
    "with open(json_file, 'r', encoding='utf-8') as f:\n",
    "    data = json.load(f)\n",
    "\n",
    "def find_corpus(row):\n",
    "    val_articles_list = eval(row)\n",
    "    val_article = val_articles_list[0]\n",
    "    val_article_id = str(val_article.get('article_id', ''))\n",
    "    val_law_id = str(val_article.get('law_id', ''))\n",
    "    \n",
    "    for articles in data:\n",
    "        for article in articles['articles']:\n",
    "            law_id = str(articles.get(\"law_id\"))\n",
    "            if \"2020\" in law_id:\n",
    "\n",
    "                if val_law_id == law_id and val_article_id ==str(article.get(\"article_id\")):\n",
    "                    text = \"Luật \"+ law_id + '\\n' + str(article.get('title')) + '\\n' + str(article.get(\"text\"))               \n",
    "                    #return ' '.join(text.split())\n",
    "                    return text\n",
    "\n",
    "filtered_df.loc[:, 'corpus'] = filtered_df['relevant_articles'].apply(find_corpus)"
   ]
  },
  {
   "cell_type": "code",
   "execution_count": 24,
   "id": "4587d444-11ce-4013-afbd-dfadec84cf96",
   "metadata": {
    "tags": []
   },
   "outputs": [
    {
     "data": {
      "text/html": [
       "<div>\n",
       "<style scoped>\n",
       "    .dataframe tbody tr th:only-of-type {\n",
       "        vertical-align: middle;\n",
       "    }\n",
       "\n",
       "    .dataframe tbody tr th {\n",
       "        vertical-align: top;\n",
       "    }\n",
       "\n",
       "    .dataframe thead th {\n",
       "        text-align: right;\n",
       "    }\n",
       "</style>\n",
       "<table border=\"1\" class=\"dataframe\">\n",
       "  <thead>\n",
       "    <tr style=\"text-align: right;\">\n",
       "      <th></th>\n",
       "      <th>question_id</th>\n",
       "      <th>question</th>\n",
       "      <th>relevant_articles</th>\n",
       "      <th>question_length</th>\n",
       "      <th>num_articles</th>\n",
       "      <th>relevant_titles</th>\n",
       "      <th>article_id</th>\n",
       "      <th>law_id</th>\n",
       "      <th>corpus</th>\n",
       "    </tr>\n",
       "  </thead>\n",
       "  <tbody>\n",
       "    <tr>\n",
       "      <th>1</th>\n",
       "      <td>ade2b2ee4f5b869f75f0d183902382af</td>\n",
       "      <td>Phải thực hiện thao tác nạp mẫu vào bình chứa ...</td>\n",
       "      <td>[{'law_id': '41/2020/tt-bca', 'article_id': '1...</td>\n",
       "      <td>22</td>\n",
       "      <td>1</td>\n",
       "      <td>['41/2020/tt-bca']</td>\n",
       "      <td>11</td>\n",
       "      <td>41/2020/tt-bca</td>\n",
       "      <td>Luật 41/2020/tt-bca\\nĐiều 11. Tiến hành lấy, b...</td>\n",
       "    </tr>\n",
       "    <tr>\n",
       "      <th>2</th>\n",
       "      <td>8fa164edc7a8419cd7dc9ce66d8e695a</td>\n",
       "      <td>Trình tự đánh giá chất lượng hàng năm đối với ...</td>\n",
       "      <td>[{'law_id': '159/2020/nđ-cp', 'article_id': '1...</td>\n",
       "      <td>19</td>\n",
       "      <td>1</td>\n",
       "      <td>['159/2020/nđ-cp']</td>\n",
       "      <td>13</td>\n",
       "      <td>159/2020/nđ-cp</td>\n",
       "      <td>Luật 159/2020/nđ-cp\\nĐiều 13. Trình tự, thủ tụ...</td>\n",
       "    </tr>\n",
       "    <tr>\n",
       "      <th>4</th>\n",
       "      <td>fe9131a8862ce1bfa7de7e2b30eeb39e</td>\n",
       "      <td>Trách nhiệm của Bộ Khoa học và Công nghệ về qu...</td>\n",
       "      <td>[{'law_id': '63/2020/nđ-cp', 'article_id': '20'}]</td>\n",
       "      <td>25</td>\n",
       "      <td>1</td>\n",
       "      <td>['63/2020/nđ-cp']</td>\n",
       "      <td>20</td>\n",
       "      <td>63/2020/nđ-cp</td>\n",
       "      <td>Luật 63/2020/nđ-cp\\nĐiều 20. Trách nhiệm của c...</td>\n",
       "    </tr>\n",
       "    <tr>\n",
       "      <th>5</th>\n",
       "      <td>fe7d15e338c05614d38d9556be8ce471</td>\n",
       "      <td>Đập phá biển báo “khu vực biên giới” bị phạt t...</td>\n",
       "      <td>[{'law_id': '96/2020/nđ-cp', 'article_id': '10'}]</td>\n",
       "      <td>12</td>\n",
       "      <td>1</td>\n",
       "      <td>['96/2020/nđ-cp']</td>\n",
       "      <td>10</td>\n",
       "      <td>96/2020/nđ-cp</td>\n",
       "      <td>Luật 96/2020/nđ-cp\\nĐiều 10. Hành vi vi phạm c...</td>\n",
       "    </tr>\n",
       "    <tr>\n",
       "      <th>7</th>\n",
       "      <td>240939c7783a252ad86868d87bc8df66</td>\n",
       "      <td>Thừa phát lại được tống đạt những giấy tờ, hồ ...</td>\n",
       "      <td>[{'law_id': '08/2020/nđ-cp', 'article_id': '32'}]</td>\n",
       "      <td>14</td>\n",
       "      <td>1</td>\n",
       "      <td>['08/2020/nđ-cp']</td>\n",
       "      <td>32</td>\n",
       "      <td>08/2020/nđ-cp</td>\n",
       "      <td>Luật 08/2020/nđ-cp\\nĐiều 32. Thẩm quyền, phạm ...</td>\n",
       "    </tr>\n",
       "  </tbody>\n",
       "</table>\n",
       "</div>"
      ],
      "text/plain": [
       "                        question_id  \\\n",
       "1  ade2b2ee4f5b869f75f0d183902382af   \n",
       "2  8fa164edc7a8419cd7dc9ce66d8e695a   \n",
       "4  fe9131a8862ce1bfa7de7e2b30eeb39e   \n",
       "5  fe7d15e338c05614d38d9556be8ce471   \n",
       "7  240939c7783a252ad86868d87bc8df66   \n",
       "\n",
       "                                            question  \\\n",
       "1  Phải thực hiện thao tác nạp mẫu vào bình chứa ...   \n",
       "2  Trình tự đánh giá chất lượng hàng năm đối với ...   \n",
       "4  Trách nhiệm của Bộ Khoa học và Công nghệ về qu...   \n",
       "5  Đập phá biển báo “khu vực biên giới” bị phạt t...   \n",
       "7  Thừa phát lại được tống đạt những giấy tờ, hồ ...   \n",
       "\n",
       "                                   relevant_articles  question_length  \\\n",
       "1  [{'law_id': '41/2020/tt-bca', 'article_id': '1...               22   \n",
       "2  [{'law_id': '159/2020/nđ-cp', 'article_id': '1...               19   \n",
       "4  [{'law_id': '63/2020/nđ-cp', 'article_id': '20'}]               25   \n",
       "5  [{'law_id': '96/2020/nđ-cp', 'article_id': '10'}]               12   \n",
       "7  [{'law_id': '08/2020/nđ-cp', 'article_id': '32'}]               14   \n",
       "\n",
       "   num_articles     relevant_titles article_id          law_id  \\\n",
       "1             1  ['41/2020/tt-bca']         11  41/2020/tt-bca   \n",
       "2             1  ['159/2020/nđ-cp']         13  159/2020/nđ-cp   \n",
       "4             1   ['63/2020/nđ-cp']         20   63/2020/nđ-cp   \n",
       "5             1   ['96/2020/nđ-cp']         10   96/2020/nđ-cp   \n",
       "7             1   ['08/2020/nđ-cp']         32   08/2020/nđ-cp   \n",
       "\n",
       "                                              corpus  \n",
       "1  Luật 41/2020/tt-bca\\nĐiều 11. Tiến hành lấy, b...  \n",
       "2  Luật 159/2020/nđ-cp\\nĐiều 13. Trình tự, thủ tụ...  \n",
       "4  Luật 63/2020/nđ-cp\\nĐiều 20. Trách nhiệm của c...  \n",
       "5  Luật 96/2020/nđ-cp\\nĐiều 10. Hành vi vi phạm c...  \n",
       "7  Luật 08/2020/nđ-cp\\nĐiều 32. Thẩm quyền, phạm ...  "
      ]
     },
     "execution_count": 24,
     "metadata": {},
     "output_type": "execute_result"
    }
   ],
   "source": [
    "filtered_df.head()"
   ]
  },
  {
   "cell_type": "code",
   "execution_count": 26,
   "id": "b1b5b1d7-5a39-4c27-82a2-beedc053ba2c",
   "metadata": {
    "tags": []
   },
   "outputs": [],
   "source": [
    "filtered_df.to_excel(\"../Raw_data/zalo_2021/raw_test_dataset.xlsx\")"
   ]
  },
  {
   "cell_type": "code",
   "execution_count": 1,
   "id": "862eb8be-81f9-48ec-b6ba-5c545bdba3b1",
   "metadata": {
    "tags": []
   },
   "outputs": [],
   "source": [
    "import os\n",
    "import random\n",
    "import shutil\n",
    "\n",
    "def split_data(input_folder, train_folder, test_folder, split_ratio=0.9, seed=None):\n",
    "    # Kiểm tra xem tỷ lệ chia có hợp lý hay không\n",
    "    if split_ratio < 0 or split_ratio > 1:\n",
    "        print(\"Tỷ lệ chia không hợp lý. Tỷ lệ chia nên nằm trong khoảng từ 0 đến 1.\")\n",
    "        return\n",
    "\n",
    "    # Thiết lập seed cho việc tạo số ngẫu nhiên để có thể tái tạo kết quả\n",
    "    random.seed(seed)\n",
    "\n",
    "    # Tạo thư mục train và test nếu chưa tồn tại\n",
    "    os.makedirs(train_folder, exist_ok=True)\n",
    "    os.makedirs(test_folder, exist_ok=True)\n",
    "\n",
    "    # Lấy danh sách tất cả các file trong thư mục input\n",
    "    all_files = [f for f in os.listdir(input_folder) if os.path.isfile(os.path.join(input_folder, f))]\n",
    "\n",
    "    # Số lượng file cần chia vào thư mục train\n",
    "    train_count = int(len(all_files) * split_ratio)\n",
    "\n",
    "    # Chọn ngẫu nhiên các file cho thư mục train\n",
    "    train_files = random.sample(all_files, train_count)\n",
    "\n",
    "    # Di chuyển các file vào thư mục train\n",
    "    for file_name in train_files:\n",
    "        source_path = os.path.join(input_folder, file_name)\n",
    "        destination_path = os.path.join(train_folder, file_name)\n",
    "        shutil.copy(source_path, destination_path)\n",
    "\n",
    "    # Lấy danh sách các file còn lại\n",
    "    remaining_files = list(set(all_files) - set(train_files))\n",
    "\n",
    "    # Số lượng file cần chia vào thư mục test\n",
    "    test_count = len(all_files) - train_count\n",
    "\n",
    "    # Chọn ngẫu nhiên các file cho thư mục test\n",
    "    test_files = random.sample(remaining_files, test_count)\n",
    "\n",
    "    # Copy các file vào thư mục test\n",
    "    for file_name in test_files:\n",
    "        source_path = os.path.join(input_folder, file_name)\n",
    "        destination_path = os.path.join(test_folder, file_name)\n",
    "        shutil.copy(source_path, destination_path)\n",
    "\n",
    "# Thay đổi đường dẫn thư mục input và thư mục output train, test theo đường dẫn thực tế của bạn\n",
    "#input_folder_path = 'text_data2/ndhdsd22_text_data'\n",
    "input_folder_path = '../Raw_data/zalo_2021/zalo_txtfile_data'\n",
    "train_folder_path = '../Raw_data/zalo_2021/train_val_dataset/train'\n",
    "test_folder_path = '../Raw_data/zalo_2021/train_val_dataset/val'\n",
    "\n",
    "# Tỉ lệ chia là 80-20%\n",
    "split_ratio = 0.9\n",
    "\n",
    "split_data(input_folder_path, train_folder_path, test_folder_path, split_ratio)"
   ]
  },
  {
   "cell_type": "code",
   "execution_count": 2,
   "id": "8163564f-8568-44b6-9ae5-acd3b7698a6b",
   "metadata": {
    "tags": []
   },
   "outputs": [
    {
     "name": "stdout",
     "output_type": "stream",
     "text": [
      "Number of txt files in the folder: 5865\n"
     ]
    }
   ],
   "source": [
    "import os\n",
    "\n",
    "def count_txt_files(folder_path):\n",
    "    # Khởi tạo biến đếm số lượng file txt\n",
    "    txt_count = 0\n",
    "    \n",
    "    # Duyệt qua tất cả các tệp trong thư mục\n",
    "    for filename in os.listdir(folder_path):\n",
    "        # Kiểm tra xem tệp có đuôi là .txt không\n",
    "        if filename.endswith(\".txt\"):\n",
    "            # Tăng biến đếm nếu tìm thấy một tệp txt\n",
    "            txt_count += 1\n",
    "    \n",
    "    return txt_count\n",
    "\n",
    "# Đường dẫn tới thư mục chứa các tệp txt\n",
    "folder_path = \"../Raw_data/zalo_2021/train_val_dataset/train\"\n",
    "\n",
    "# Gọi hàm để đếm số lượng tệp txt\n",
    "num_txt_files = count_txt_files(folder_path)\n",
    "print(\"Number of txt files in the folder:\", num_txt_files)"
   ]
  },
  {
   "cell_type": "code",
   "execution_count": 3,
   "id": "150e0e24-7688-4ae2-90e8-176e3f54d78a",
   "metadata": {
    "tags": []
   },
   "outputs": [
    {
     "name": "stdout",
     "output_type": "stream",
     "text": [
      "Number of txt files in the folder: 652\n"
     ]
    }
   ],
   "source": [
    "folder_path = \"../Raw_data/zalo_2021/train_val_dataset/val\"\n",
    "\n",
    "# Gọi hàm để đếm số lượng tệp txt\n",
    "num_txt_files = count_txt_files(folder_path)\n",
    "print(\"Number of txt files in the folder:\", num_txt_files)"
   ]
  },
  {
   "cell_type": "code",
   "execution_count": 4,
   "id": "e547823b-0098-4c3c-a278-4f6405f24063",
   "metadata": {
    "tags": []
   },
   "outputs": [
    {
     "name": "stdout",
     "output_type": "stream",
     "text": [
      "Number of txt files in the folder: 6517\n"
     ]
    }
   ],
   "source": [
    "folder_path = \"../Raw_data/zalo_2021/zalo_txtfile_data\"\n",
    "\n",
    "# Gọi hàm để đếm số lượng tệp txt\n",
    "num_txt_files = count_txt_files(folder_path)\n",
    "print(\"Number of txt files in the folder:\", num_txt_files)"
   ]
  },
  {
   "cell_type": "code",
   "execution_count": 7,
   "id": "52c5732c-209c-4987-811c-04fedce0c8a0",
   "metadata": {},
   "outputs": [
    {
     "data": {
      "image/png": "[encoded data removed]",
      "text/plain": [
       "<Figure size 640x480 with 1 Axes>"
      ]
     },
     "metadata": {},
     "output_type": "display_data"
    }
   ],
   "source": [
    "import os\n",
    "import nltk\n",
    "import matplotlib.pyplot as plt\n",
    "\n",
    "# Tải dữ liệu cho nltk nếu cần\n",
    "#nltk.download('punkt')\n",
    "\n",
    "def count_tokens(file_path):\n",
    "    \"\"\"Đếm số token trong một file văn bản\"\"\"\n",
    "    with open(file_path, 'r', encoding='utf-8') as file:\n",
    "        text = file.read()\n",
    "        tokens = nltk.word_tokenize(text)\n",
    "        return len(tokens)\n",
    "\n",
    "def plot_distribution(folder_path):\n",
    "    \"\"\"Vẽ đồ thị phân bố độ dài văn bản\"\"\"\n",
    "    file_lengths = []\n",
    "    file_names = []\n",
    "    # Lặp qua các file trong thư mục\n",
    "    for file_name in os.listdir(folder_path):\n",
    "        if file_name.endswith('.txt'):\n",
    "            file_path = os.path.join(folder_path, file_name)\n",
    "            length = count_tokens(file_path)\n",
    "            file_lengths.append(length)\n",
    "            if length > 4000:\n",
    "                file_names.append(file_name)\n",
    "    \n",
    "    # Vẽ đồ thị\n",
    "    plt.hist(file_lengths, bins=20, color='skyblue', edgecolor='black')\n",
    "    plt.xlabel('Số token')\n",
    "    plt.ylabel('Số lượng văn bản')\n",
    "    plt.title('Phân bố độ dài văn bản')\n",
    "    plt.show()\n",
    "    return file_names\n",
    "\n",
    "# Thư mục chứa các file văn bản\n",
    "folder_path = 'zalo_txtfile_data/'\n",
    "\n",
    "# Gọi hàm để vẽ đồ thị\n",
    "file_names = plot_distribution(folder_path)"
   ]
  },
  {
   "cell_type": "code",
   "execution_count": 8,
   "id": "adbf06a2-e608-46da-8787-f806d73e65eb",
   "metadata": {
    "tags": []
   },
   "outputs": [
    {
     "data": {
      "text/plain": [
       "16"
      ]
     },
     "execution_count": 8,
     "metadata": {},
     "output_type": "execute_result"
    }
   ],
   "source": [
    "len(file_names)"
   ]
  },
  {
   "cell_type": "code",
   "execution_count": null,
   "id": "8b967b8b-3e1c-4cd4-bcb2-79580dc3b37b",
   "metadata": {},
   "outputs": [],
   "source": []
  }
 ],
 "metadata": {
  "kernelspec": {
   "display_name": "Python 3 (ipykernel)",
   "language": "python",
   "name": "python3"
  },
  "language_info": {
   "codemirror_mode": {
    "name": "ipython",
    "version": 3
   },
   "file_extension": ".py",
   "mimetype": "text/x-python",
   "name": "python",
   "nbconvert_exporter": "python",
   "pygments_lexer": "ipython3",
   "version": "3.11.7"
  }
 },
 "nbformat": 4,
 "nbformat_minor": 5
}
